{
 "cells": [
  {
   "cell_type": "markdown",
   "metadata": {},
   "source": [
    "## Dataset generation from Road Accidents STATS19 dataset "
   ]
  },
  {
   "cell_type": "markdown",
   "metadata": {},
   "source": [
    "<font color=\"orange\">This script was used to generate dataset by removing redundant variables, imputing missing values and deriving new variables</font>"
   ]
  },
  {
   "cell_type": "markdown",
   "metadata": {},
   "source": [
    "#### Load packages"
   ]
  },
  {
   "cell_type": "code",
   "execution_count": 1,
   "metadata": {
    "collapsed": true
   },
   "outputs": [],
   "source": [
    "import csv\n",
    "import os\n",
    "import numpy as np\n",
    "import pandas as pd\n",
    "import matplotlib.pyplot as plt\n",
    "from datetime import datetime\n",
    "from geopy.distance import great_circle\n",
    "from geopy.distance import vincenty\n",
    "from sklearn.preprocessing import LabelEncoder\n",
    "from sklearn.utils import shuffle\n",
    "import warnings"
   ]
  },
  {
   "cell_type": "markdown",
   "metadata": {},
   "source": [
    "#### Load data"
   ]
  },
  {
   "cell_type": "code",
   "execution_count": 2,
   "metadata": {},
   "outputs": [
    {
     "name": "stderr",
     "output_type": "stream",
     "text": [
      "C:\\Users\\Mithu\\Anaconda3\\lib\\site-packages\\IPython\\core\\interactiveshell.py:2698: DtypeWarning: Columns (0,59) have mixed types. Specify dtype option on import or set low_memory=False.\n",
      "  interactivity=interactivity, compiler=compiler, result=result)\n"
     ]
    }
   ],
   "source": [
    "wd = \"C://MEJ//Data//\"\n",
    "os.chdir(wd)\n",
    "csvDataTest = pd.read_csv(\"Full_20102015.csv\")\n",
    "startTime = datetime.now()\n",
    "del wd"
   ]
  },
  {
   "cell_type": "markdown",
   "metadata": {},
   "source": [
    "### Data wrangling"
   ]
  },
  {
   "cell_type": "markdown",
   "metadata": {},
   "source": [
    "##### Missing data imputation (with mean, median and mode)"
   ]
  },
  {
   "cell_type": "code",
   "execution_count": 3,
   "metadata": {
    "collapsed": true
   },
   "outputs": [],
   "source": [
    "nanDatasetTest = pd.DataFrame(csvDataTest.applymap(lambda x: np.nan if str(x) == '-1' else x))\n",
    "nanDatasetTest.Sex_of_Driver.apply(lambda x: np.nan if str(x) == '3' else x)\n",
    "nanDatasetTest.Journey_Purpose_of_Driver.apply(lambda x: np.nan if str(x) in ['5','6','15'] else x)\n",
    "nanDatasetTest.Weather_Conditions.apply(lambda x: np.nan if str(x) == '9' else x)\n",
    "nanDatasetTest.columns\n",
    "nanRemovedDatasetTest = nanDatasetTest.copy(deep=True)\n",
    "nanRemovedDatasetTest = nanRemovedDatasetTest.drop(['Vehicle_IMD_Decile','Driver_IMD_Decile','Junction_Control','2nd_Road_Class',\n",
    "                                           'Engine_Capacity_(CC)','Propulsion_Code','Age_of_Vehicle','Driver_Home_Area_Type'],\n",
    "                                           axis=1)\n",
    "nanRemovedDatasetTest['Vehicle_Type'].fillna((nanRemovedDatasetTest['Vehicle_Type'].mean()), inplace=True)\n",
    "nanRemovedDatasetTest['Towing_and_Articulation'].fillna((nanRemovedDatasetTest['Towing_and_Articulation'].mode()), inplace=True)\n",
    "nanRemovedDatasetTest['Vehicle_Manoeuvre'].fillna((nanRemovedDatasetTest['Vehicle_Manoeuvre'].median()), inplace=True)\n",
    "nanRemovedDatasetTest['Vehicle_Location-Restricted_Lane'].fillna((nanRemovedDatasetTest['Vehicle_Location-Restricted_Lane'].mode()), inplace=True)\n",
    "nanRemovedDatasetTest['Junction_Location'].fillna((nanRemovedDatasetTest['Junction_Location'].median()), inplace=True)\n",
    "nanRemovedDatasetTest['Skidding_and_Overturning'].fillna((nanRemovedDatasetTest['Skidding_and_Overturning'].mode()), inplace=True)\n",
    "nanRemovedDatasetTest['Hit_Object_in_Carriageway'].fillna((nanRemovedDatasetTest['Hit_Object_in_Carriageway'].median()), inplace=True)\n",
    "nanRemovedDatasetTest['1st_Point_of_Impact'].fillna((nanRemovedDatasetTest['1st_Point_of_Impact'].median()), inplace=True)\n",
    "nanRemovedDatasetTest['Was_Vehicle_Left_Hand_Drive?'].fillna((nanRemovedDatasetTest['Was_Vehicle_Left_Hand_Drive?'].median()), inplace=True)\n",
    "#imp = Imputer(missing_values='NaN', strategy='median', axis=0,copy=False)\n",
    "#imp.fit_transform(nanRemovedDatasetTest)\n",
    "nanRemovedDatasetTest['Journey_Purpose_of_Driver'].fillna((nanRemovedDatasetTest['Journey_Purpose_of_Driver'].median()), inplace=True)\n",
    "nanRemovedDatasetTest['Sex_of_Driver'].fillna((nanRemovedDatasetTest['Sex_of_Driver'].mode()), inplace=True)\n",
    "nanRemovedDatasetTest['Age_Band_of_Driver'].fillna((nanRemovedDatasetTest['Age_Band_of_Driver'].median()), inplace=True)\n",
    "nanRemovedDatasetTest['Age_of_Driver'].fillna((nanRemovedDatasetTest['Age_of_Driver'].median()), inplace=True)\n",
    "nanRemovedDatasetTest['Pedestrian_Crossing-Human_Control'].fillna((nanRemovedDatasetTest['Pedestrian_Crossing-Human_Control'].median()), inplace=True)\n",
    "nanRemovedDatasetTest['Pedestrian_Crossing-Physical_Facilities'].fillna((nanRemovedDatasetTest['Pedestrian_Crossing-Physical_Facilities'].median()), inplace=True)\n",
    "nanRemovedDatasetTest['Weather_Conditions'].fillna((nanRemovedDatasetTest['Weather_Conditions'].mode()), inplace=True)\n",
    "nanRemovedDatasetTest['Road_Surface_Conditions'].fillna((nanRemovedDatasetTest['Road_Surface_Conditions'].median()), inplace=True)\n",
    "nanRemovedDatasetTest['Special_Conditions_at_Site'].fillna((nanRemovedDatasetTest['Special_Conditions_at_Site'].mode()), inplace=True)\n",
    "nanRemovedDatasetTest['Carriageway_Hazards'].fillna((nanRemovedDatasetTest['Carriageway_Hazards'].mode()), inplace=True)\n",
    "nanRemovedDatasetTest.drop(['Location_Easting_OSGR','Location_Northing_OSGR','Did_Police_Officer_Attend_Scene_of_Accident',\n",
    "                        'DateTime_Out','Police_Force', '2nd_Road_Number'],\n",
    "                       axis = 1, inplace = True)"
   ]
  },
  {
   "cell_type": "code",
   "execution_count": 4,
   "metadata": {
    "collapsed": true
   },
   "outputs": [],
   "source": [
    "nanRemovedDatasetTest.rename(columns = {'Local_Authority_(District)':'Local_Authority_District',\n",
    "                       'Local_Authority_(Highway)':'Local_Authority_Highway',\n",
    "                      'Was_Vehicle_Left_Hand_Drive?':'Vehicle_Left_Hand_Drive',\n",
    "                      'Engine_Capacity_(CC)':'Engine_Capacity_CC',\n",
    "                      'Pedestrian Count':'Pedestrian_Count'}, inplace = True)"
   ]
  },
  {
   "cell_type": "code",
   "execution_count": 5,
   "metadata": {},
   "outputs": [
    {
     "name": "stdout",
     "output_type": "stream",
     "text": [
      "Shape before removing null values ==>\n",
      "nanRemovedDataset:  (1602718, 46)\n",
      "Shape after removing null values ==>\n",
      "nanRemovedDataset:  (1503254, 46)\n"
     ]
    }
   ],
   "source": [
    "print('Shape before removing null values ==>')\n",
    "print('nanRemovedDataset: ', nanRemovedDatasetTest.shape)\n",
    "nanRemovedDatasetTest.dropna(inplace=True)\n",
    "print('Shape after removing null values ==>')\n",
    "print('nanRemovedDataset: ', nanRemovedDatasetTest.shape)"
   ]
  },
  {
   "cell_type": "markdown",
   "metadata": {},
   "source": [
    "##### Check for null values"
   ]
  },
  {
   "cell_type": "code",
   "execution_count": 6,
   "metadata": {
    "scrolled": true
   },
   "outputs": [
    {
     "data": {
      "text/plain": [
       "Accident_Index                             0\n",
       "Vehicle_Reference                          0\n",
       "Total Casualities                          0\n",
       "Fatal                                      0\n",
       "Serious                                    0\n",
       "Slight                                     0\n",
       "Pedestrian_Count                           0\n",
       "Vehicle_Type                               0\n",
       "Towing_and_Articulation                    0\n",
       "Vehicle_Manoeuvre                          0\n",
       "Vehicle_Location-Restricted_Lane           0\n",
       "Junction_Location                          0\n",
       "Skidding_and_Overturning                   0\n",
       "Hit_Object_in_Carriageway                  0\n",
       "Vehicle_Leaving_Carriageway                0\n",
       "Hit_Object_off_Carriageway                 0\n",
       "1st_Point_of_Impact                        0\n",
       "Vehicle_Left_Hand_Drive                    0\n",
       "Journey_Purpose_of_Driver                  0\n",
       "Sex_of_Driver                              0\n",
       "Age_of_Driver                              0\n",
       "Age_Band_of_Driver                         0\n",
       "Longitude                                  0\n",
       "Latitude                                   0\n",
       "Accident_Severity                          0\n",
       "Number_of_Vehicles                         0\n",
       "Number_of_Casualties                       0\n",
       "Date                                       0\n",
       "Day_of_Week                                0\n",
       "Time                                       0\n",
       "Local_Authority_District                   0\n",
       "Local_Authority_Highway                    0\n",
       "1st_Road_Class                             0\n",
       "1st_Road_Number                            0\n",
       "Road_Type                                  0\n",
       "Speed_limit                                0\n",
       "Junction_Detail                            0\n",
       "Pedestrian_Crossing-Human_Control          0\n",
       "Pedestrian_Crossing-Physical_Facilities    0\n",
       "Light_Conditions                           0\n",
       "Weather_Conditions                         0\n",
       "Road_Surface_Conditions                    0\n",
       "Special_Conditions_at_Site                 0\n",
       "Carriageway_Hazards                        0\n",
       "Urban_or_Rural_Area                        0\n",
       "LSOA_of_Accident_Location                  0\n",
       "dtype: int64"
      ]
     },
     "execution_count": 6,
     "metadata": {},
     "output_type": "execute_result"
    }
   ],
   "source": [
    "nanRemovedDatasetTest.isnull().sum()"
   ]
  },
  {
   "cell_type": "markdown",
   "metadata": {},
   "source": [
    "##### Variables retained from original dataset"
   ]
  },
  {
   "cell_type": "code",
   "execution_count": 7,
   "metadata": {
    "scrolled": true
   },
   "outputs": [
    {
     "name": "stdout",
     "output_type": "stream",
     "text": [
      "Dimension reduced to:\n",
      "46\n",
      "Sparsity per variable after removing variables with > 15% missing values, imputing variables with less than 15% missing values and removing redundant variables:\n"
     ]
    },
    {
     "data": {
      "text/plain": [
       "Accident_Index                             0.0\n",
       "Vehicle_Reference                          0.0\n",
       "Total Casualities                          0.0\n",
       "Fatal                                      0.0\n",
       "Serious                                    0.0\n",
       "Slight                                     0.0\n",
       "Pedestrian_Count                           0.0\n",
       "Vehicle_Type                               0.0\n",
       "Towing_and_Articulation                    0.0\n",
       "Vehicle_Manoeuvre                          0.0\n",
       "Vehicle_Location-Restricted_Lane           0.0\n",
       "Junction_Location                          0.0\n",
       "Skidding_and_Overturning                   0.0\n",
       "Hit_Object_in_Carriageway                  0.0\n",
       "Vehicle_Leaving_Carriageway                0.0\n",
       "Hit_Object_off_Carriageway                 0.0\n",
       "1st_Point_of_Impact                        0.0\n",
       "Vehicle_Left_Hand_Drive                    0.0\n",
       "Journey_Purpose_of_Driver                  0.0\n",
       "Sex_of_Driver                              0.0\n",
       "Age_of_Driver                              0.0\n",
       "Age_Band_of_Driver                         0.0\n",
       "Longitude                                  0.0\n",
       "Latitude                                   0.0\n",
       "Accident_Severity                          0.0\n",
       "Number_of_Vehicles                         0.0\n",
       "Number_of_Casualties                       0.0\n",
       "Date                                       0.0\n",
       "Day_of_Week                                0.0\n",
       "Time                                       0.0\n",
       "Local_Authority_District                   0.0\n",
       "Local_Authority_Highway                    0.0\n",
       "1st_Road_Class                             0.0\n",
       "1st_Road_Number                            0.0\n",
       "Road_Type                                  0.0\n",
       "Speed_limit                                0.0\n",
       "Junction_Detail                            0.0\n",
       "Pedestrian_Crossing-Human_Control          0.0\n",
       "Pedestrian_Crossing-Physical_Facilities    0.0\n",
       "Light_Conditions                           0.0\n",
       "Weather_Conditions                         0.0\n",
       "Road_Surface_Conditions                    0.0\n",
       "Special_Conditions_at_Site                 0.0\n",
       "Carriageway_Hazards                        0.0\n",
       "Urban_or_Rural_Area                        0.0\n",
       "LSOA_of_Accident_Location                  0.0\n",
       "dtype: float64"
      ]
     },
     "execution_count": 7,
     "metadata": {},
     "output_type": "execute_result"
    }
   ],
   "source": [
    "print('Dimension reduced to:')\n",
    "print(len(nanRemovedDatasetTest.columns))\n",
    "print('Sparsity per variable after removing variables with > 15% missing values, imputing variables with less than 15% missing values and removing redundant variables:')\n",
    "((len(nanRemovedDatasetTest.index) - nanRemovedDatasetTest.count())/len(nanRemovedDatasetTest.index))#Sparsity per variable retained"
   ]
  },
  {
   "cell_type": "markdown",
   "metadata": {},
   "source": [
    "##### Check for variable datatype"
   ]
  },
  {
   "cell_type": "code",
   "execution_count": 8,
   "metadata": {
    "scrolled": true
   },
   "outputs": [
    {
     "name": "stdout",
     "output_type": "stream",
     "text": [
      "Datatype of variables:\n"
     ]
    },
    {
     "data": {
      "text/plain": [
       "Accident_Index                              object\n",
       "Vehicle_Reference                            int64\n",
       "Total Casualities                            int64\n",
       "Fatal                                        int64\n",
       "Serious                                      int64\n",
       "Slight                                       int64\n",
       "Pedestrian_Count                             int64\n",
       "Vehicle_Type                               float64\n",
       "Towing_and_Articulation                    float64\n",
       "Vehicle_Manoeuvre                          float64\n",
       "Vehicle_Location-Restricted_Lane           float64\n",
       "Junction_Location                          float64\n",
       "Skidding_and_Overturning                   float64\n",
       "Hit_Object_in_Carriageway                  float64\n",
       "Vehicle_Leaving_Carriageway                float64\n",
       "Hit_Object_off_Carriageway                 float64\n",
       "1st_Point_of_Impact                        float64\n",
       "Vehicle_Left_Hand_Drive                    float64\n",
       "Journey_Purpose_of_Driver                  float64\n",
       "Sex_of_Driver                              float64\n",
       "Age_of_Driver                              float64\n",
       "Age_Band_of_Driver                         float64\n",
       "Longitude                                  float64\n",
       "Latitude                                   float64\n",
       "Accident_Severity                            int64\n",
       "Number_of_Vehicles                           int64\n",
       "Number_of_Casualties                         int64\n",
       "Date                                        object\n",
       "Day_of_Week                                  int64\n",
       "Time                                        object\n",
       "Local_Authority_District                     int64\n",
       "Local_Authority_Highway                     object\n",
       "1st_Road_Class                               int64\n",
       "1st_Road_Number                              int64\n",
       "Road_Type                                    int64\n",
       "Speed_limit                                  int64\n",
       "Junction_Detail                            float64\n",
       "Pedestrian_Crossing-Human_Control          float64\n",
       "Pedestrian_Crossing-Physical_Facilities    float64\n",
       "Light_Conditions                             int64\n",
       "Weather_Conditions                         float64\n",
       "Road_Surface_Conditions                    float64\n",
       "Special_Conditions_at_Site                 float64\n",
       "Carriageway_Hazards                        float64\n",
       "Urban_or_Rural_Area                          int64\n",
       "LSOA_of_Accident_Location                   object\n",
       "dtype: object"
      ]
     },
     "execution_count": 8,
     "metadata": {},
     "output_type": "execute_result"
    }
   ],
   "source": [
    "print('Datatype of variables:')\n",
    "nanRemovedDatasetTest.dtypes#Checking variable data type as numeric type is most easy to deal with"
   ]
  },
  {
   "cell_type": "code",
   "execution_count": 9,
   "metadata": {},
   "outputs": [
    {
     "name": "stdout",
     "output_type": "stream",
     "text": [
      "Class imbalance:\n",
      "3    1295516\n",
      "2     191653\n",
      "1      16085\n",
      "Name: Accident_Severity, dtype: int64\n"
     ]
    }
   ],
   "source": [
    "classDistribution = nanRemovedDatasetTest['Accident_Severity'].value_counts()\n",
    "print('Class imbalance:')\n",
    "print(classDistribution)"
   ]
  },
  {
   "cell_type": "markdown",
   "metadata": {},
   "source": [
    "### Variable transformation"
   ]
  },
  {
   "cell_type": "markdown",
   "metadata": {},
   "source": [
    "##### Transforming Latitude and Longitude to derive 'Location'"
   ]
  },
  {
   "cell_type": "code",
   "execution_count": 10,
   "metadata": {},
   "outputs": [
    {
     "name": "stdout",
     "output_type": "stream",
     "text": [
      "Reference location:  (51.476852, -0.0005)\n"
     ]
    }
   ],
   "source": [
    "ref = (51.476852,-0.000500)#Royal observatory, Greenwich\n",
    "print('Reference location: ', ref)\n",
    "def vincentyDist(x,ref):\n",
    "    return vincenty(x, ref).miles\n",
    "def circleDist(x,ref):\n",
    "    return great_circle(x, ref).miles\n",
    "nanRemovedDatasetTest['comboLL'] = nanRemovedDatasetTest[['Latitude', 'Longitude']].apply(tuple, axis=1)\n",
    "nanRemovedDatasetTest['vincentyDistLL'] = nanRemovedDatasetTest.comboLL.apply(lambda x: vincentyDist(x,ref))\n",
    "nanRemovedDatasetTest['circleDistLL'] = nanRemovedDatasetTest.comboLL.apply(lambda x: circleDist(x,ref))\n",
    "nanRemovedDatasetTest.drop(['comboLL','vincentyDistLL'], axis=1, inplace=True)"
   ]
  },
  {
   "cell_type": "markdown",
   "metadata": {},
   "source": [
    "##### Deriving 'Month' and 'Hourslot' from Date"
   ]
  },
  {
   "cell_type": "code",
   "execution_count": 11,
   "metadata": {
    "collapsed": true
   },
   "outputs": [],
   "source": [
    "nanRemovedDatasetTest['Month'] = nanRemovedDatasetTest.Date.apply(lambda x: x.split('/')[1])\n",
    "nanRemovedDatasetTest.drop(['Date'], axis=1, inplace=True)"
   ]
  },
  {
   "cell_type": "code",
   "execution_count": 12,
   "metadata": {
    "collapsed": true
   },
   "outputs": [],
   "source": [
    "def categoriseTime(x):\n",
    "    hour = int(x.split(':')[0])\n",
    "    if(hour in [0,1,2,3,4,5]):\n",
    "        return 1\n",
    "    elif(hour in [6,7,8,9]):\n",
    "        return 2\n",
    "    elif(hour in [10,11,12,13,14]):\n",
    "        return 3\n",
    "    elif(hour in [15,16,17,18]):\n",
    "        return 4\n",
    "    elif(hour in [19,20,21,22,23]):\n",
    "        return 5\n",
    "    else:\n",
    "        return 0\n",
    "nanRemovedDatasetTest['HourSlot'] = nanRemovedDatasetTest.Time.apply(lambda x: categoriseTime(x))\n",
    "list(nanRemovedDatasetTest['HourSlot'].unique())\n",
    "nanRemovedDatasetTest.drop(['Time'], axis=1, inplace=True)"
   ]
  },
  {
   "cell_type": "markdown",
   "metadata": {},
   "source": [
    "##### Transforming categorical variables to numeric variables"
   ]
  },
  {
   "cell_type": "code",
   "execution_count": 13,
   "metadata": {
    "collapsed": true
   },
   "outputs": [],
   "source": [
    "le = LabelEncoder()\n",
    "nanRemovedDatasetTest[\"LSOA_of_Accident_Location\"] = le.fit_transform(nanRemovedDatasetTest[\"LSOA_of_Accident_Location\"])\n",
    "LSOA_Accident_Location = list(le.classes_)\n",
    "nanRemovedDatasetTest[\"Local_Authority_District\"] = le.fit_transform(nanRemovedDatasetTest[\"Local_Authority_District\"])\n",
    "LSOA_District = list(le.classes_)\n",
    "nanRemovedDatasetTest[\"Local_Authority_Highway\"] = le.fit_transform(nanRemovedDatasetTest[\"Local_Authority_Highway\"])\n",
    "LSOA_Accident_Highway = list(le.classes_)"
   ]
  },
  {
   "cell_type": "code",
   "execution_count": 14,
   "metadata": {
    "collapsed": true
   },
   "outputs": [],
   "source": [
    "nanRemovedDatasetTest.drop(['Local_Authority_District','Local_Authority_Highway','Accident_Index'],axis=1,inplace=True)"
   ]
  },
  {
   "cell_type": "markdown",
   "metadata": {},
   "source": [
    "##### Deriving dependent hotspot variable 'IntensityLabel' from Accident severity, No. of vehicles and Pedestrian presence on road"
   ]
  },
  {
   "cell_type": "code",
   "execution_count": 15,
   "metadata": {},
   "outputs": [
    {
     "name": "stdout",
     "output_type": "stream",
     "text": [
      "count    1.503254e+06\n",
      "mean     2.085305e+00\n",
      "std      1.602212e+00\n",
      "min      1.000000e+00\n",
      "25%      1.000000e+00\n",
      "50%      2.000000e+00\n",
      "75%      2.000000e+00\n",
      "max      1.800000e+01\n",
      "Name: IntensityLabel, dtype: float64\n"
     ]
    },
    {
     "data": {
      "image/png": "[encoded data removed]",
      "text/plain": [
       "<matplotlib.figure.Figure at 0x7d872634e0>"
      ]
     },
     "metadata": {},
     "output_type": "display_data"
    }
   ],
   "source": [
    "def intensityLabel(x):\n",
    "    fa = 0\n",
    "    se = 0\n",
    "    sl = 0\n",
    "    vh = 0\n",
    "    pd = 0\n",
    "    if x.Fatal > 0:\n",
    "        fa = 10\n",
    "    if x.Serious > 0:\n",
    "        se = 5\n",
    "    if x.Slight > 0:\n",
    "        sl = 1\n",
    "    if x.Number_of_Vehicles > 0:\n",
    "        vh = 1\n",
    "    if x.Pedestrian_Count > 0:\n",
    "        pd = 1\n",
    "    return fa + se + sl + vh + pd\n",
    "    #return x.Fatal*9 + x.Serious*3 + x.Slight*1 + x.Number_of_Vehicles*1 + x.Pedestrian_Count\n",
    "\n",
    "def categoryLabel(x):\n",
    "    if x < 5:\n",
    "        return 0\n",
    "    elif x >= 5:\n",
    "        return 1\n",
    "\n",
    "nanRemovedDatasetTest['IntensityLabel'] = nanRemovedDatasetTest[['Fatal','Serious','Slight','Number_of_Vehicles','Pedestrian_Count']].apply(lambda x: intensityLabel(x), axis=1)\n",
    "print(nanRemovedDatasetTest['IntensityLabel'].describe())\n",
    "plt.scatter(nanRemovedDatasetTest.index,nanRemovedDatasetTest['IntensityLabel'])\n",
    "plt.show()\n",
    "nanRemovedDatasetTest['IntensityLabel'] = nanRemovedDatasetTest['IntensityLabel'].apply(lambda x: categoryLabel(x))"
   ]
  },
  {
   "cell_type": "markdown",
   "metadata": {},
   "source": [
    "#### Class distribution of dependent variable"
   ]
  },
  {
   "cell_type": "code",
   "execution_count": 16,
   "metadata": {},
   "outputs": [
    {
     "name": "stdout",
     "output_type": "stream",
     "text": [
      "0    1377391\n",
      "1     125863\n",
      "Name: IntensityLabel, dtype: int64\n"
     ]
    }
   ],
   "source": [
    "classDistribution = nanRemovedDatasetTest['IntensityLabel'].value_counts()\n",
    "print(classDistribution)"
   ]
  },
  {
   "cell_type": "markdown",
   "metadata": {},
   "source": [
    "#### Undersampling to handle class imbalance"
   ]
  },
  {
   "cell_type": "code",
   "execution_count": 17,
   "metadata": {},
   "outputs": [
    {
     "name": "stdout",
     "output_type": "stream",
     "text": [
      "Least present class label:  125863\n",
      "(125863, 45)\n",
      "(125863, 45)\n",
      "Shape of final dataset:  (251726, 45)\n",
      "Columns in the dataset:  45\n",
      "Class imbalance evened out:\n",
      "1    125863\n",
      "0    125863\n",
      "Name: IntensityLabel, dtype: int64\n"
     ]
    }
   ],
   "source": [
    "dataset = nanRemovedDatasetTest.sample(frac=1).reset_index(drop=True)\n",
    "print('Least present class label: ',classDistribution.min())\n",
    "zero = dataset[dataset['IntensityLabel']==0].tail(classDistribution.min())\n",
    "print(zero.shape)\n",
    "one = dataset[dataset['IntensityLabel']==1]\n",
    "print(one.shape)\n",
    "data = zero.append(one)\n",
    "data=shuffle(data)\n",
    "print('Shape of final dataset: ',data.shape)\n",
    "del zero, one\n",
    "data = data.sample(frac=1).reset_index(drop=True)\n",
    "print('Columns in the dataset: ', len(data.columns))\n",
    "print('Class imbalance evened out:')\n",
    "print(data['IntensityLabel'].value_counts())"
   ]
  },
  {
   "cell_type": "markdown",
   "metadata": {},
   "source": [
    "#### Saving dataset to CSV file"
   ]
  },
  {
   "cell_type": "code",
   "execution_count": 18,
   "metadata": {
    "collapsed": true
   },
   "outputs": [],
   "source": [
    "modelDataTrain = data.copy(deep=True)"
   ]
  },
  {
   "cell_type": "code",
   "execution_count": 19,
   "metadata": {
    "collapsed": true
   },
   "outputs": [],
   "source": [
    "modelDataTrain.to_csv('BinarySeverity2010_2015.csv')"
   ]
  },
  {
   "cell_type": "markdown",
   "metadata": {},
   "source": [
    "#### Loading dataset from the saved CSV file to assess class imbalance"
   ]
  },
  {
   "cell_type": "code",
   "execution_count": 20,
   "metadata": {},
   "outputs": [
    {
     "data": {
      "text/plain": [
       "1    125863\n",
       "0    125863\n",
       "Name: IntensityLabel, dtype: int64"
      ]
     },
     "execution_count": 20,
     "metadata": {},
     "output_type": "execute_result"
    }
   ],
   "source": [
    "modelDataTraining = pd.read_csv(\"BinarySeverity2010_2015.csv\")\n",
    "modelDataTraining['IntensityLabel'].value_counts()"
   ]
  },
  {
   "cell_type": "markdown",
   "metadata": {},
   "source": [
    "#### Variables in the final dataset"
   ]
  },
  {
   "cell_type": "code",
   "execution_count": 21,
   "metadata": {
    "scrolled": true
   },
   "outputs": [
    {
     "data": {
      "text/plain": [
       "['Unnamed: 0',\n",
       " 'Vehicle_Reference',\n",
       " 'Total Casualities',\n",
       " 'Fatal',\n",
       " 'Serious',\n",
       " 'Slight',\n",
       " 'Pedestrian_Count',\n",
       " 'Vehicle_Type',\n",
       " 'Towing_and_Articulation',\n",
       " 'Vehicle_Manoeuvre',\n",
       " 'Vehicle_Location-Restricted_Lane',\n",
       " 'Junction_Location',\n",
       " 'Skidding_and_Overturning',\n",
       " 'Hit_Object_in_Carriageway',\n",
       " 'Vehicle_Leaving_Carriageway',\n",
       " 'Hit_Object_off_Carriageway',\n",
       " '1st_Point_of_Impact',\n",
       " 'Vehicle_Left_Hand_Drive',\n",
       " 'Journey_Purpose_of_Driver',\n",
       " 'Sex_of_Driver',\n",
       " 'Age_of_Driver',\n",
       " 'Age_Band_of_Driver',\n",
       " 'Longitude',\n",
       " 'Latitude',\n",
       " 'Accident_Severity',\n",
       " 'Number_of_Vehicles',\n",
       " 'Number_of_Casualties',\n",
       " 'Day_of_Week',\n",
       " '1st_Road_Class',\n",
       " '1st_Road_Number',\n",
       " 'Road_Type',\n",
       " 'Speed_limit',\n",
       " 'Junction_Detail',\n",
       " 'Pedestrian_Crossing-Human_Control',\n",
       " 'Pedestrian_Crossing-Physical_Facilities',\n",
       " 'Light_Conditions',\n",
       " 'Weather_Conditions',\n",
       " 'Road_Surface_Conditions',\n",
       " 'Special_Conditions_at_Site',\n",
       " 'Carriageway_Hazards',\n",
       " 'Urban_or_Rural_Area',\n",
       " 'LSOA_of_Accident_Location',\n",
       " 'circleDistLL',\n",
       " 'Month',\n",
       " 'HourSlot',\n",
       " 'IntensityLabel']"
      ]
     },
     "execution_count": 21,
     "metadata": {},
     "output_type": "execute_result"
    }
   ],
   "source": [
    "list(modelDataTraining.columns)"
   ]
  },
  {
   "cell_type": "code",
   "execution_count": 22,
   "metadata": {},
   "outputs": [
    {
     "name": "stdout",
     "output_type": "stream",
     "text": [
      "Overall execution took [ 0:04:16.304657 ] seconds.\n"
     ]
    }
   ],
   "source": [
    "print('Overall execution took [', datetime.now() - startTime, '] seconds.')"
   ]
  }
 ],
 "metadata": {
  "kernelspec": {
   "display_name": "Python 3",
   "language": "python",
   "name": "python3"
  },
  "language_info": {
   "codemirror_mode": {
    "name": "ipython",
    "version": 3
   },
   "file_extension": ".py",
   "mimetype": "text/x-python",
   "name": "python",
   "nbconvert_exporter": "python",
   "pygments_lexer": "ipython3",
   "version": "3.6.3"
  }
 },
 "nbformat": 4,
 "nbformat_minor": 2
}
